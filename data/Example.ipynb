{
 "cells": [
  {
   "cell_type": "markdown",
   "metadata": {},
   "source": [
    "# Code for the Example in Sect 3"
   ]
  },
  {
   "cell_type": "code",
   "execution_count": 1,
   "metadata": {
    "collapsed": true
   },
   "outputs": [],
   "source": [
    "import numpy as np"
   ]
  },
  {
   "cell_type": "code",
   "execution_count": 2,
   "metadata": {
    "collapsed": false
   },
   "outputs": [
    {
     "data": {
      "text/plain": [
       "(10745, 5)"
      ]
     },
     "execution_count": 2,
     "metadata": {},
     "output_type": "execute_result"
    }
   ],
   "source": [
    "data = np.loadtxt('Clusters_W1.dat')\n",
    "data.shape"
   ]
  },
  {
   "cell_type": "code",
   "execution_count": 3,
   "metadata": {
    "collapsed": false
   },
   "outputs": [
    {
     "data": {
      "text/plain": [
       "array([[ 34.8023 ,  -7.01005,   0.3    ,   4.435  ,  10.     ],\n",
       "       [ 34.9425 ,  -7.38996,   0.5    ,   4.545  ,  21.     ],\n",
       "       [ 34.8651 ,  -6.69449,   0.5    ,   3.858  ,   6.     ],\n",
       "       ..., \n",
       "       [ 38.1521 ,  -3.8871 ,   1.     ,   4.489  ,  23.     ],\n",
       "       [ 38.1083 ,  -4.15283,   0.9    ,   5.017  ,  22.     ],\n",
       "       [ 38.1083 ,  -3.78745,   1.     ,   4.353  ,  23.     ]])"
      ]
     },
     "execution_count": 3,
     "metadata": {},
     "output_type": "execute_result"
    }
   ],
   "source": [
    "data"
   ]
  },
  {
   "cell_type": "code",
   "execution_count": 4,
   "metadata": {
    "collapsed": true
   },
   "outputs": [],
   "source": [
    "redshift = data[:,2]\n",
    "sig = data[:,3]\n",
    "richness = data[:,4]"
   ]
  },
  {
   "cell_type": "code",
   "execution_count": 5,
   "metadata": {
    "collapsed": false
   },
   "outputs": [
    {
     "data": {
      "text/plain": [
       "(15,)"
      ]
     },
     "execution_count": 5,
     "metadata": {},
     "output_type": "execute_result"
    }
   ],
   "source": [
    "#select the highest significance, low-z clusters\n",
    "here = (sig > 15) & (redshift < 0.5)\n",
    "sig[here].shape"
   ]
  },
  {
   "cell_type": "code",
   "execution_count": 6,
   "metadata": {
    "collapsed": false
   },
   "outputs": [],
   "source": [
    "z = redshift[here]\n",
    "n200 = richness[here]"
   ]
  },
  {
   "cell_type": "markdown",
   "metadata": {},
   "source": [
    "## Optional Plotting of $z$ and $N_{200}$"
   ]
  },
  {
   "cell_type": "code",
   "execution_count": 7,
   "metadata": {
    "collapsed": false
   },
   "outputs": [],
   "source": [
    "import matplotlib.pyplot as plt\n",
    "import seaborn as sns; sns.set()\n",
    "% matplotlib inline"
   ]
  },
  {
   "cell_type": "code",
   "execution_count": 8,
   "metadata": {
    "collapsed": false
   },
   "outputs": [],
   "source": [
    "minbin = z.min()-0.05\n",
    "maxbin = z.max()+0.05\n",
    "n_edges = (z.max()-z.min())*10 + 2"
   ]
  },
  {
   "cell_type": "code",
   "execution_count": 9,
   "metadata": {
    "collapsed": false
   },
   "outputs": [
    {
     "data": {
      "image/png": "[encoded data removed]",
      "text/plain": [
       "<matplotlib.figure.Figure at 0x118affe48>"
      ]
     },
     "metadata": {},
     "output_type": "display_data"
    },
    {
     "data": {
      "text/plain": [
       "<matplotlib.figure.Figure at 0x118affd68>"
      ]
     },
     "metadata": {},
     "output_type": "display_data"
    }
   ],
   "source": [
    "plt.hist(z, bins=np.linspace(minbin, maxbin, n_edges))\n",
    "plt.xlabel('$z$', fontsize=20)\n",
    "plt.show()\n",
    "plt.savefig('zhist.png')"
   ]
  },
  {
   "cell_type": "code",
   "execution_count": 10,
   "metadata": {
    "collapsed": false
   },
   "outputs": [
    {
     "data": {
      "image/png": "[encoded data removed]",
      "text/plain": [
       "<matplotlib.figure.Figure at 0x11b4e4128>"
      ]
     },
     "metadata": {},
     "output_type": "display_data"
    },
    {
     "data": {
      "text/plain": [
       "<matplotlib.figure.Figure at 0x11b4cfdd8>"
      ]
     },
     "metadata": {},
     "output_type": "display_data"
    }
   ],
   "source": [
    "plt.hist(n200)\n",
    "plt.yscale('log')\n",
    "plt.xlabel('$N_{200}$', fontsize=20)\n",
    "plt.show()\n",
    "plt.savefig('nhist.png')"
   ]
  },
  {
   "cell_type": "markdown",
   "metadata": {
    "collapsed": true
   },
   "source": [
    "# Generate properties and profiles"
   ]
  },
  {
   "cell_type": "code",
   "execution_count": 11,
   "metadata": {
    "collapsed": true
   },
   "outputs": [],
   "source": [
    "import clusterlensing"
   ]
  },
  {
   "cell_type": "code",
   "execution_count": 12,
   "metadata": {
    "collapsed": false
   },
   "outputs": [],
   "source": [
    "c = clusterlensing.ClusterEnsemble(z)\n",
    "c.n200 = n200"
   ]
  },
  {
   "cell_type": "code",
   "execution_count": 13,
   "metadata": {
    "collapsed": false
   },
   "outputs": [
    {
     "data": {
      "text/html": [
       "<div>\n",
       "<table border=\"1\" class=\"dataframe\">\n",
       "  <thead>\n",
       "    <tr style=\"text-align: right;\">\n",
       "      <th></th>\n",
       "      <th>z</th>\n",
       "      <th>n200</th>\n",
       "      <th>m200</th>\n",
       "      <th>r200</th>\n",
       "      <th>c200</th>\n",
       "      <th>delta_c</th>\n",
       "      <th>rs</th>\n",
       "    </tr>\n",
       "  </thead>\n",
       "  <tbody>\n",
       "    <tr>\n",
       "      <th>0</th>\n",
       "      <td>0.4</td>\n",
       "      <td>181</td>\n",
       "      <td>5.897552e+14</td>\n",
       "      <td>1.531367</td>\n",
       "      <td>3.966101</td>\n",
       "      <td>5173.016417</td>\n",
       "      <td>0.386114</td>\n",
       "    </tr>\n",
       "    <tr>\n",
       "      <th>1</th>\n",
       "      <td>0.3</td>\n",
       "      <td>420</td>\n",
       "      <td>1.916332e+15</td>\n",
       "      <td>2.357815</td>\n",
       "      <td>3.658237</td>\n",
       "      <td>4332.615805</td>\n",
       "      <td>0.644522</td>\n",
       "    </tr>\n",
       "    <tr>\n",
       "      <th>2</th>\n",
       "      <td>0.4</td>\n",
       "      <td>176</td>\n",
       "      <td>5.670737e+14</td>\n",
       "      <td>1.511478</td>\n",
       "      <td>3.980218</td>\n",
       "      <td>5213.746469</td>\n",
       "      <td>0.379747</td>\n",
       "    </tr>\n",
       "    <tr>\n",
       "      <th>3</th>\n",
       "      <td>0.3</td>\n",
       "      <td>113</td>\n",
       "      <td>3.049521e+14</td>\n",
       "      <td>1.277703</td>\n",
       "      <td>4.341779</td>\n",
       "      <td>6324.420397</td>\n",
       "      <td>0.294281</td>\n",
       "    </tr>\n",
       "    <tr>\n",
       "      <th>4</th>\n",
       "      <td>0.4</td>\n",
       "      <td>162</td>\n",
       "      <td>5.049435e+14</td>\n",
       "      <td>1.454129</td>\n",
       "      <td>4.022285</td>\n",
       "      <td>5336.272412</td>\n",
       "      <td>0.361518</td>\n",
       "    </tr>\n",
       "  </tbody>\n",
       "</table>\n",
       "</div>"
      ],
      "text/plain": [
       "     z  n200          m200      r200      c200      delta_c        rs\n",
       "0  0.4   181  5.897552e+14  1.531367  3.966101  5173.016417  0.386114\n",
       "1  0.3   420  1.916332e+15  2.357815  3.658237  4332.615805  0.644522\n",
       "2  0.4   176  5.670737e+14  1.511478  3.980218  5213.746469  0.379747\n",
       "3  0.3   113  3.049521e+14  1.277703  4.341779  6324.420397  0.294281\n",
       "4  0.4   162  5.049435e+14  1.454129  4.022285  5336.272412  0.361518"
      ]
     },
     "execution_count": 13,
     "metadata": {},
     "output_type": "execute_result"
    }
   ],
   "source": [
    "c.dataframe.head()"
   ]
  },
  {
   "cell_type": "code",
   "execution_count": 14,
   "metadata": {
    "collapsed": true
   },
   "outputs": [],
   "source": [
    "rbins = np.logspace(np.log10(0.1), np.log10(10.0), num = 20)\n",
    "c.calc_nfw(rbins)"
   ]
  },
  {
   "cell_type": "code",
   "execution_count": 15,
   "metadata": {
    "collapsed": false
   },
   "outputs": [],
   "source": [
    "ordered = c.n200.argsort()[::-1] # from high to low richness"
   ]
  },
  {
   "cell_type": "code",
   "execution_count": 16,
   "metadata": {
    "collapsed": false
   },
   "outputs": [],
   "source": [
    "# strings for plots\n",
    "raxis = '$R\\ [\\mathrm{Mpc}]$'\n",
    "sgma = '$\\Sigma(R)$'\n",
    "sgmaoff = '$\\Sigma^\\mathrm{off}(R)$'\n",
    "delta = '$\\Delta$'\n",
    "sgmaunits = ' $[M_{\\odot} / \\mathrm{pc}^2]$'"
   ]
  },
  {
   "cell_type": "code",
   "execution_count": 17,
   "metadata": {
    "collapsed": true
   },
   "outputs": [],
   "source": [
    "import matplotlib\n",
    "matplotlib.rcParams['axes.labelsize']=20\n",
    "matplotlib.rcParams['legend.fontsize']=20"
   ]
  },
  {
   "cell_type": "code",
   "execution_count": 18,
   "metadata": {
    "collapsed": false
   },
   "outputs": [
    {
     "data": {
      "text/plain": [
       "<matplotlib.text.Text at 0x11caa0710>"
      ]
     },
     "execution_count": 18,
     "metadata": {},
     "output_type": "execute_result"
    },
    {
     "data": {
      "image/png": "[encoded data removed]",
      "text/plain": [
       "<matplotlib.figure.Figure at 0x11caa1160>"
      ]
     },
     "metadata": {},
     "output_type": "display_data"
    }
   ],
   "source": [
    "for profile, rich in zip(c.sigma_nfw[ordered], c.n200[ordered]):\n",
    "    plt.plot(rbins, profile, label=str(int(rich)))\n",
    "plt.xscale('log')\n",
    "plt.legend(fontsize=10)\n",
    "plt.ylabel(sgma+sgmaunits)\n",
    "plt.xlabel(raxis)"
   ]
  },
  {
   "cell_type": "code",
   "execution_count": 19,
   "metadata": {
    "collapsed": false
   },
   "outputs": [
    {
     "data": {
      "text/plain": [
       "<matplotlib.text.Text at 0x11b633828>"
      ]
     },
     "execution_count": 19,
     "metadata": {},
     "output_type": "execute_result"
    },
    {
     "data": {
      "image/png": "[encoded data removed]",
      "text/plain": [
       "<matplotlib.figure.Figure at 0x11b6206d8>"
      ]
     },
     "metadata": {},
     "output_type": "display_data"
    }
   ],
   "source": [
    "sigma = c.sigma_nfw.mean(axis=0)\n",
    "dsigma = c.deltasigma_nfw.mean(axis=0)\n",
    "\n",
    "plt.plot(rbins, sigma, label=sgma)\n",
    "plt.plot(rbins, dsigma, label=delta+sgma)\n",
    "plt.legend()\n",
    "\n",
    "plt.ylim([0.,1400.])\n",
    "plt.xscale('log')\n",
    "plt.xlabel(raxis)\n",
    "plt.ylabel(sgmaunits)"
   ]
  },
  {
   "cell_type": "code",
   "execution_count": 20,
   "metadata": {
    "collapsed": false
   },
   "outputs": [],
   "source": [
    "offsets = np.ones(c.z.shape[0]) * 0.1\n",
    "c.calc_nfw(rbins, offsets=offsets)"
   ]
  },
  {
   "cell_type": "code",
   "execution_count": 21,
   "metadata": {
    "collapsed": false
   },
   "outputs": [
    {
     "data": {
      "text/plain": [
       "<matplotlib.text.Text at 0x11d2e5cf8>"
      ]
     },
     "execution_count": 21,
     "metadata": {},
     "output_type": "execute_result"
    },
    {
     "data": {
      "image/png": "[encoded data removed]",
      "text/plain": [
       "<matplotlib.figure.Figure at 0x11d4c61d0>"
      ]
     },
     "metadata": {},
     "output_type": "display_data"
    }
   ],
   "source": [
    "sigma_offset = c.sigma_nfw.mean(axis=0)\n",
    "dsigma_offset = c.deltasigma_nfw.mean(axis=0)\n",
    "\n",
    "plt.plot(rbins, sigma_offset, label=sgmaoff)\n",
    "plt.plot(rbins, dsigma_offset, label=delta+sgmaoff)\n",
    "plt.legend()\n",
    "\n",
    "plt.ylim([0.,1400.])\n",
    "plt.xscale('log')\n",
    "plt.xlabel(raxis)\n",
    "plt.ylabel(sgmaunits)"
   ]
  },
  {
   "cell_type": "markdown",
   "metadata": {
    "collapsed": true
   },
   "source": [
    "# Different masses... is this interesting?\n",
    "Suppose a new mass estimate has been done, suggesting that masses are 20% higher across the board."
   ]
  },
  {
   "cell_type": "code",
   "execution_count": 22,
   "metadata": {
    "collapsed": false
   },
   "outputs": [
    {
     "data": {
      "text/html": [
       "<div>\n",
       "<table border=\"1\" class=\"dataframe\">\n",
       "  <thead>\n",
       "    <tr style=\"text-align: right;\">\n",
       "      <th></th>\n",
       "      <th>z</th>\n",
       "      <th>n200</th>\n",
       "      <th>m200</th>\n",
       "      <th>r200</th>\n",
       "      <th>c200</th>\n",
       "      <th>delta_c</th>\n",
       "      <th>rs</th>\n",
       "    </tr>\n",
       "  </thead>\n",
       "  <tbody>\n",
       "    <tr>\n",
       "      <th>0</th>\n",
       "      <td>0.4</td>\n",
       "      <td>181</td>\n",
       "      <td>5.897552e+14</td>\n",
       "      <td>1.531367</td>\n",
       "      <td>3.966101</td>\n",
       "      <td>5173.016417</td>\n",
       "      <td>0.386114</td>\n",
       "    </tr>\n",
       "    <tr>\n",
       "      <th>1</th>\n",
       "      <td>0.3</td>\n",
       "      <td>420</td>\n",
       "      <td>1.916332e+15</td>\n",
       "      <td>2.357815</td>\n",
       "      <td>3.658237</td>\n",
       "      <td>4332.615805</td>\n",
       "      <td>0.644522</td>\n",
       "    </tr>\n",
       "    <tr>\n",
       "      <th>2</th>\n",
       "      <td>0.4</td>\n",
       "      <td>176</td>\n",
       "      <td>5.670737e+14</td>\n",
       "      <td>1.511478</td>\n",
       "      <td>3.980218</td>\n",
       "      <td>5213.746469</td>\n",
       "      <td>0.379747</td>\n",
       "    </tr>\n",
       "    <tr>\n",
       "      <th>3</th>\n",
       "      <td>0.3</td>\n",
       "      <td>113</td>\n",
       "      <td>3.049521e+14</td>\n",
       "      <td>1.277703</td>\n",
       "      <td>4.341779</td>\n",
       "      <td>6324.420397</td>\n",
       "      <td>0.294281</td>\n",
       "    </tr>\n",
       "    <tr>\n",
       "      <th>4</th>\n",
       "      <td>0.4</td>\n",
       "      <td>162</td>\n",
       "      <td>5.049435e+14</td>\n",
       "      <td>1.454129</td>\n",
       "      <td>4.022285</td>\n",
       "      <td>5336.272412</td>\n",
       "      <td>0.361518</td>\n",
       "    </tr>\n",
       "  </tbody>\n",
       "</table>\n",
       "</div>"
      ],
      "text/plain": [
       "     z  n200          m200      r200      c200      delta_c        rs\n",
       "0  0.4   181  5.897552e+14  1.531367  3.966101  5173.016417  0.386114\n",
       "1  0.3   420  1.916332e+15  2.357815  3.658237  4332.615805  0.644522\n",
       "2  0.4   176  5.670737e+14  1.511478  3.980218  5213.746469  0.379747\n",
       "3  0.3   113  3.049521e+14  1.277703  4.341779  6324.420397  0.294281\n",
       "4  0.4   162  5.049435e+14  1.454129  4.022285  5336.272412  0.361518"
      ]
     },
     "execution_count": 22,
     "metadata": {},
     "output_type": "execute_result"
    }
   ],
   "source": [
    "c.dataframe.head()"
   ]
  },
  {
   "cell_type": "code",
   "execution_count": 23,
   "metadata": {
    "collapsed": false
   },
   "outputs": [
    {
     "data": {
      "text/html": [
       "<div>\n",
       "<table border=\"1\" class=\"dataframe\">\n",
       "  <thead>\n",
       "    <tr style=\"text-align: right;\">\n",
       "      <th></th>\n",
       "      <th>z</th>\n",
       "      <th>n200</th>\n",
       "      <th>m200</th>\n",
       "      <th>r200</th>\n",
       "      <th>c200</th>\n",
       "      <th>delta_c</th>\n",
       "      <th>rs</th>\n",
       "    </tr>\n",
       "  </thead>\n",
       "  <tbody>\n",
       "    <tr>\n",
       "      <th>0</th>\n",
       "      <td>0.4</td>\n",
       "      <td>206.175287</td>\n",
       "      <td>7.077062e+14</td>\n",
       "      <td>1.627320</td>\n",
       "      <td>3.901126</td>\n",
       "      <td>4988.061708</td>\n",
       "      <td>0.417141</td>\n",
       "    </tr>\n",
       "    <tr>\n",
       "      <th>1</th>\n",
       "      <td>0.3</td>\n",
       "      <td>478.417793</td>\n",
       "      <td>2.299599e+15</td>\n",
       "      <td>2.505553</td>\n",
       "      <td>3.596600</td>\n",
       "      <td>4175.157911</td>\n",
       "      <td>0.696645</td>\n",
       "    </tr>\n",
       "    <tr>\n",
       "      <th>2</th>\n",
       "      <td>0.4</td>\n",
       "      <td>200.479837</td>\n",
       "      <td>6.804884e+14</td>\n",
       "      <td>1.606185</td>\n",
       "      <td>3.915012</td>\n",
       "      <td>5027.243872</td>\n",
       "      <td>0.410263</td>\n",
       "    </tr>\n",
       "    <tr>\n",
       "      <th>3</th>\n",
       "      <td>0.3</td>\n",
       "      <td>128.717168</td>\n",
       "      <td>3.659425e+14</td>\n",
       "      <td>1.357762</td>\n",
       "      <td>4.268625</td>\n",
       "      <td>6089.074554</td>\n",
       "      <td>0.318080</td>\n",
       "    </tr>\n",
       "    <tr>\n",
       "      <th>4</th>\n",
       "      <td>0.4</td>\n",
       "      <td>184.532577</td>\n",
       "      <td>6.059322e+14</td>\n",
       "      <td>1.545242</td>\n",
       "      <td>3.956389</td>\n",
       "      <td>5145.110093</td>\n",
       "      <td>0.390569</td>\n",
       "    </tr>\n",
       "  </tbody>\n",
       "</table>\n",
       "</div>"
      ],
      "text/plain": [
       "     z        n200          m200      r200      c200      delta_c        rs\n",
       "0  0.4  206.175287  7.077062e+14  1.627320  3.901126  4988.061708  0.417141\n",
       "1  0.3  478.417793  2.299599e+15  2.505553  3.596600  4175.157911  0.696645\n",
       "2  0.4  200.479837  6.804884e+14  1.606185  3.915012  5027.243872  0.410263\n",
       "3  0.3  128.717168  3.659425e+14  1.357762  4.268625  6089.074554  0.318080\n",
       "4  0.4  184.532577  6.059322e+14  1.545242  3.956389  5145.110093  0.390569"
      ]
     },
     "execution_count": 23,
     "metadata": {},
     "output_type": "execute_result"
    }
   ],
   "source": [
    "c.m200 = c.m200 * 1.2\n",
    "c.dataframe.head()"
   ]
  },
  {
   "cell_type": "code",
   "execution_count": 24,
   "metadata": {
    "collapsed": true
   },
   "outputs": [],
   "source": [
    "c.calc_nfw(rbins, offsets=offsets)"
   ]
  },
  {
   "cell_type": "code",
   "execution_count": 25,
   "metadata": {
    "collapsed": false
   },
   "outputs": [
    {
     "data": {
      "text/plain": [
       "<matplotlib.text.Text at 0x11b76cf60>"
      ]
     },
     "execution_count": 25,
     "metadata": {},
     "output_type": "execute_result"
    },
    {
     "data": {
      "image/png": "[encoded data removed]",
      "text/plain": [
       "<matplotlib.figure.Figure at 0x11b5d9668>"
      ]
     },
     "metadata": {},
     "output_type": "display_data"
    }
   ],
   "source": [
    "sigma_offset = c.sigma_nfw.mean(axis=0)\n",
    "dsigma_offset = c.deltasigma_nfw.mean(axis=0)\n",
    "\n",
    "plt.plot(rbins, sigma_offset, label=sgmaoff)\n",
    "plt.plot(rbins, dsigma_offset, label=delta+sgmaoff)\n",
    "plt.legend()\n",
    "\n",
    "plt.ylim([0.,1400.])\n",
    "plt.xscale('log')\n",
    "plt.xlabel(raxis)\n",
    "plt.ylabel(sgmaunits)"
   ]
  },
  {
   "cell_type": "code",
   "execution_count": null,
   "metadata": {
    "collapsed": true
   },
   "outputs": [],
   "source": []
  }
 ],
 "metadata": {
  "kernelspec": {
   "display_name": "Python 3",
   "language": "python",
   "name": "python3"
  },
  "language_info": {
   "codemirror_mode": {
    "name": "ipython",
    "version": 3
   },
   "file_extension": ".py",
   "mimetype": "text/x-python",
   "name": "python",
   "nbconvert_exporter": "python",
   "pygments_lexer": "ipython3",
   "version": "3.5.1"
  }
 },
 "nbformat": 4,
 "nbformat_minor": 0
}
